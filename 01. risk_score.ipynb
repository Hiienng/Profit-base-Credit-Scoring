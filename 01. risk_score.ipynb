{
 "cells": [
  {
   "cell_type": "markdown",
   "metadata": {},
   "source": [
    "# <a id='toc1_'></a>[Import final_input.csv](#toc0_)"
   ]
  },
  {
   "cell_type": "markdown",
   "metadata": {},
   "source": [
    "**Table of contents**<a id='toc0_'></a>    \n",
    "- [Import final_input.csv](#toc1_)    \n",
    "- [Risk score card model](#toc2_)    \n",
    "  - [WOE](#toc2_1_)    \n",
    "- [Xếp hạng các biến theo sức mạnh dự báo](#toc3_)    \n",
    "- [Hồi quy logistic](#toc4_)    \n",
    "- [Trả ra prob of risk cho data](#toc5_)    \n",
    "  - [Lưu model logistic](#toc5_1_)    \n",
    "- [Tính điểm score cho mỗi feature](#toc6_)    \n",
    "\n",
    "<!-- vscode-jupyter-toc-config\n",
    "\tnumbering=false\n",
    "\tanchor=true\n",
    "\tflat=false\n",
    "\tminLevel=1\n",
    "\tmaxLevel=6\n",
    "\t/vscode-jupyter-toc-config -->\n",
    "<!-- THIS CELL WILL BE REPLACED ON TOC UPDATE. DO NOT WRITE YOUR TEXT IN THIS CELL -->"
   ]
  },
  {
   "cell_type": "code",
   "execution_count": 15,
   "metadata": {},
   "outputs": [],
   "source": [
    "import os\n",
    "import pandas as pd \n",
    "import numpy as np\n",
    "import warnings\n",
    "warnings.filterwarnings('ignore')\n",
    "from sklearn.preprocessing import LabelEncoder\n",
    "import sklearn\n",
    "from datetime import datetime\n",
    "from sqlalchemy import create_engine\n",
    "import pyodbc"
   ]
  },
  {
   "cell_type": "code",
   "execution_count": 16,
   "metadata": {},
   "outputs": [
    {
     "name": "stdout",
     "output_type": "stream",
     "text": [
      "Connected to server DRAFT\n"
     ]
    }
   ],
   "source": [
    "\n",
    "def sql_native_connection(db_name='DRAFT'):\n",
    "    \"\"\"\n",
    "    :param db_name: Tên database muốn đăng nhập\n",
    "    :return: kết nối vào database\n",
    "    \"\"\"\n",
    "    try:\n",
    "        cnxn_str = (\"Driver={SQL Server Native Client 11.0};\"\"Server=PS1BICCAPP04;\" +\n",
    "                    \"Database={};\".format(db_name) +\n",
    "                    \"Trusted_Connection=yes;\")\n",
    "        engine = create_engine('mssql+pyodbc:///?odbc_connect={}'.format(cnxn_str))\n",
    "        print(f'Connected to server {db_name}')\n",
    "        return engine.connect()\n",
    "    except Exception as E:\n",
    "        print(E)\n",
    "\n",
    "\n",
    "\n",
    "def msssql_connect(dbname='draft'):\n",
    "    server = 'PS1BICCAPP04'\n",
    "    database = dbname\n",
    "    driver = 'SQL Server'\n",
    "    conn_str = 'DRIVER=' + driver + ';SERVER=' + server + ';DATABASE=' + database + ';Trusted_Connection=yes'\n",
    "    conn = pyodbc.connect(conn_str)\n",
    "    return conn\n",
    "\n",
    "\n",
    "conn = msssql_connect('draft')\n",
    "\n",
    "connection = sql_native_connection()\n",
    "\n",
    "\n",
    "wd = os.getcwd()"
   ]
  },
  {
   "cell_type": "code",
   "execution_count": 17,
   "metadata": {},
   "outputs": [],
   "source": [
    "data_raw = pd.read_sql_query(\"select  * from draft.dbo.ngamt_stmt_upite_20240511\", conn)"
   ]
  },
  {
   "cell_type": "code",
   "execution_count": null,
   "metadata": {},
   "outputs": [],
   "source": [
    "file_path = wd + '\\\\01. data\\\\input\\\\final_input.csv'\n",
    "data_raw.to_csv(file_path, index=False)\n",
    " "
   ]
  },
  {
   "cell_type": "markdown",
   "metadata": {},
   "source": [
    "# <a id='toc2_'></a>[Risk score card model](#toc0_)"
   ]
  },
  {
   "cell_type": "code",
   "execution_count": null,
   "metadata": {},
   "outputs": [
    {
     "data": {
      "text/plain": [
       "Index(['product_group', 'contract_limit', 'bi_card_type', 'liab_limit',\n",
       "       'campaign_group', 'cus_income', 'income_tier', 'gender',\n",
       "       'marital_status', 'edu_level', 'province_city', 'age', 'cus_class',\n",
       "       'ovd_days', 'ovd_days_6m', 'ovd_days_12m', 'ovd_days_24m',\n",
       "       'ovd_days_36m', 'nhom_no_cic', 'revolver_group', 'nii_24m', 'nfi_24m',\n",
       "       'toi_24m', 'provision_24m', 'bad_flag'],\n",
       "      dtype='object')"
      ]
     },
     "execution_count": 5,
     "metadata": {},
     "output_type": "execute_result"
    }
   ],
   "source": [
    "file_path = wd+'\\\\01. data\\\\input\\\\final_input.csv'\n",
    "data_raw = pd.read_csv(file_path)\n",
    "\n",
    "data = data_raw\n",
    "data['nhom_no_cic'] = data['nhom_no_cic'].astype('str')\n",
    "# data['nhom_no_cic'] = data['nhom_no_cic'].astype('object')\n",
    "columns_to_keep = data.columns.drop(['cif', 'acnt_contract_oid', 'contract_number', 'issue_month', 'issue_date_ctr', 'unlock_date'])\n",
    "data = data[columns_to_keep]\n",
    "import math\n",
    "columns_to_keep"
   ]
  },
  {
   "cell_type": "code",
   "execution_count": null,
   "metadata": {},
   "outputs": [],
   "source": [
    "import pandas as pd\n",
    "\n",
    "# Assuming your DataFrame is named 'data'\n",
    "total_samples = len(data)\n",
    "split_ratio = 0.2\n",
    "\n",
    "# Randomly shuffle the data\n",
    "shuffled_data = data.sample(frac=1, random_state=123)\n",
    "\n",
    "# Calculate the split index\n",
    "split_index = int(split_ratio * total_samples)\n",
    "\n",
    "# Split the data into two parts\n",
    "data_test = shuffled_data[:split_index]\n",
    "data_train = shuffled_data[split_index:]\n",
    "\n",
    "data_test.to_csv(wd+'\\\\01. data\\\\input\\\\data_test.csv', index = False)\n",
    "data_train.to_csv(wd+'\\\\01. data\\\\input\\\\data_train.csv', index = False)\n",
    "\n",
    "\n",
    "wd = os.getcwd()\n",
    "data_train = pd.read_csv(wd+'\\\\01. data\\\\input\\\\data_train.csv')\n",
    "data_train['nhom_no_cic'] = data_train['nhom_no_cic'].astype('str')"
   ]
  },
  {
   "cell_type": "code",
   "execution_count": null,
   "metadata": {},
   "outputs": [],
   "source": [
    "import seaborn as sns\n",
    "import matplotlib.pyplot as plt\n",
    "\n",
    "# Biểu đồ histogram\n",
    "def _plot_hist_subplot(x, fieldname, bins = 10, use_kde = True):\n",
    "  x = x.dropna()\n",
    "  xlabel = '{} bins tickers'.format(fieldname)\n",
    "  ylabel = 'Count obs in {} each bin'.format(fieldname)\n",
    "  title = 'histogram plot of {} with {} bins'.format(fieldname, bins)\n",
    "  ax = sns.distplot(x, bins = bins, kde = use_kde)\n",
    "  ax.set_xlabel(xlabel)\n",
    "  ax.set_ylabel(ylabel)\n",
    "  ax.set_title(title)\n",
    "  return ax\n",
    "\n",
    "# Biểu đồ barchart\n",
    "def _plot_barchart_subplot(x, fieldname):\n",
    "  xlabel = 'Group of {}'.format(fieldname)\n",
    "  ylabel = 'Count obs in {} each bin'.format(fieldname)\n",
    "  title = 'Barchart plot of {}'.format(fieldname)\n",
    "  x = x.fillna('Missing')\n",
    "  df_summary = x.value_counts(dropna = False)\n",
    "  y_values = df_summary.values\n",
    "  x_index = df_summary.index\n",
    "  ax = sns.barplot(x = x_index, y = y_values, order = x_index)\n",
    "  # Tạo vòng for lấy tọa độ đỉnh trên cùng của biểu đồ và thêm label thông qua annotate.\n",
    "  labels = list(set(x))\n",
    "  for label, p in zip(y_values, ax.patches):\n",
    "    ax.annotate(label, (p.get_x()+0.25, p.get_height()+0.15))\n",
    "  plt.xlabel(xlabel)\n",
    "  plt.ylabel(ylabel)\n",
    "  plt.title(title)\n",
    "  return ax\n"
   ]
  },
  {
   "cell_type": "code",
   "execution_count": null,
   "metadata": {},
   "outputs": [
    {
     "data": {
      "image/png": "[encoded data removed]",
      "text/plain": [
       "<Figure size 1296x1152 with 13 Axes>"
      ]
     },
     "metadata": {
      "needs_background": "light"
     },
     "output_type": "display_data"
    }
   ],
   "source": [
    "fig = plt.figure(figsize=(18, 16))\n",
    "fig.subplots_adjust(hspace=0.5, wspace=0.2)\n",
    "# Tạo vòng for check định dạng của biến và visualize\n",
    "for i, (fieldname, dtype) in enumerate(zip(data.columns, data.dtypes.values)):\n",
    "  if i <= 12:\n",
    "    ax_i = fig.add_subplot(4, 5, i+1)\n",
    "    if dtype in ['float64', 'int64']:\n",
    "      ax_i = _plot_hist_subplot(data[fieldname], fieldname=fieldname)\n",
    "    else:\n",
    "      ax_i = _plot_barchart_subplot(data[fieldname], fieldname=fieldname)\n",
    "      \n",
    "fig.suptitle('Visualization all fields')\n",
    "plt.show()"
   ]
  },
  {
   "cell_type": "markdown",
   "metadata": {},
   "source": [
    "## <a id='toc2_1_'></a>[WOE](#toc0_)"
   ]
  },
  {
   "cell_type": "code",
   "execution_count": null,
   "metadata": {},
   "outputs": [],
   "source": [
    "import numpy as np\n",
    "import matplotlib.pyplot as plt\n",
    "\n",
    "MAX_VAL = 999999999999999\n",
    "MIN_VAL = -MAX_VAL\n",
    "\n",
    "def _bin_table(data, colname, n_bins = 10, qcut = None):\n",
    "  X = data[[colname, 'bad_flag']]\n",
    "  X = X.sort_values(colname)\n",
    "  coltype = X[colname].dtype\n",
    "\n",
    "  if coltype in ['float64', 'int64']:\n",
    "    if qcut is None:\n",
    "      try:\n",
    "        bins, thres = pd.qcut(X[colname], q = n_bins, retbins=True)\n",
    "        # Thay thế threshold đầu và cuối của thres\n",
    "        thres[0] = MIN_VAL\n",
    "        thres[-1] = MAX_VAL\n",
    "        bins, thres = pd.cut(X[colname], bins=thres, retbins=True)\n",
    "        X['bins'] = bins\n",
    "      except:\n",
    "        print('n_bins must be lower to bin interval is valid!')\n",
    "    else:\n",
    "      bins, thres = pd.cut(X[colname], bins=qcut, retbins=True)\n",
    "      X['bins'] = bins\n",
    "  elif coltype == 'object':\n",
    "    X['bins'] = X[colname]\n",
    "\n",
    "  df_GB = pd.pivot_table(X, \n",
    "                index = ['bins'],\n",
    "                values = ['bad_flag'],\n",
    "                columns = ['bad_flag'],\n",
    "                aggfunc = {\n",
    "                    'bad_flag':np.size\n",
    "                })\n",
    "\n",
    "  df_Count = pd.pivot_table(X, \n",
    "                index = ['bins'],\n",
    "                values = ['bad_flag'],\n",
    "                aggfunc = {\n",
    "                    'bad_flag': np.size\n",
    "                })\n",
    "  \n",
    "  if coltype in ['float64', 'int64']:\n",
    "    df_Thres = pd.DataFrame({'Thres':thres[1:]}, index=df_GB.index)\n",
    "  elif coltype == 'object':\n",
    "    df_Thres = pd.DataFrame(index=df_GB.index)\n",
    "    thres = None\n",
    "  df_Count.columns = ['no_obs']\n",
    "  df_GB.columns = ['#bad', '#good']\n",
    "  df_summary = df_Thres.join(df_Count).join(df_GB)\n",
    "  return df_summary, thres  "
   ]
  },
  {
   "cell_type": "code",
   "execution_count": null,
   "metadata": {},
   "outputs": [],
   "source": [
    "def _woe(data, colname, n_bins = None, min_obs = 100, qcut = None):\n",
    "  # Thống kê bins và lấy ra thres hold ban đầu\n",
    "  df_summary, thres = _bin_table(data, colname, n_bins = n_bins, qcut = qcut)\n",
    "  # Thay thế giá trị 0 của #BAD trong df_summary bằng 1 để không bị lỗi chia cho 0\n",
    "  df_summary['#bad'] = df_summary['#bad'].replace({0:1})\n",
    "  \n",
    "  if qcut is not None:\n",
    "    # Lọc bỏ threshold để tạo thành threshold mới mà thỏa mãn số lượng quan sát >= min_obs\n",
    "    exclude_ind = np.where(df_summary['no_obs'] <= min_obs)[0]\n",
    "    if exclude_ind.shape[0] > 0:\n",
    "      new_thres = np.delete(thres, exclude_ind)\n",
    "      print('Auto combine {} bins into {} bins'.format(n_bins, new_thres.shape[0]-1))\n",
    "      # Tính toán lại bảng summary\n",
    "      df_summary, thres = _bin_table(data, colname, qcut=new_thres)\n",
    "  \n",
    "  new_thres = thres\n",
    "  df_summary['good/bad'] = df_summary['#good']/df_summary['#bad']\n",
    "  df_summary['%bad'] = df_summary['#bad']/df_summary['#bad'].sum()\n",
    "  df_summary['%good'] = df_summary['#good']/df_summary['#good'].sum()\n",
    "  df_summary['woe'] = np.log(df_summary['%good']/df_summary['%bad'])\n",
    "  df_summary['iv'] = (df_summary['%good']-df_summary['%bad'])*df_summary['woe']\n",
    "  df_summary['column'] = colname\n",
    "  iv = df_summary['iv'].sum()\n",
    "  print('information value of {} column: {}'.format(colname, iv))\n",
    "  return df_summary, iv, new_thres\n",
    "\n"
   ]
  },
  {
   "cell_type": "code",
   "execution_count": null,
   "metadata": {},
   "outputs": [],
   "source": [
    "def _plot(df_summary):\n",
    "  colname = list(df_summary['column'].unique())[0]\n",
    "  df_summary['woe'].plot(linestyle='-', marker='o')\n",
    "  plt.title('woe of {} field'.format(colname))\n",
    "  plt.axhline(y=0, color = 'red')\n",
    "  plt.xticks(rotation=45)\n",
    "  plt.ylabel('woe')\n",
    "  plt.xlabel('bin group')"
   ]
  },
  {
   "cell_type": "code",
   "execution_count": null,
   "metadata": {},
   "outputs": [
    {
     "name": "stdout",
     "output_type": "stream",
     "text": [
      "information value of age column: 0.035410705142111934\n"
     ]
    },
    {
     "data": {
      "text/html": [
       "<div>\n",
       "<style scoped>\n",
       "    .dataframe tbody tr th:only-of-type {\n",
       "        vertical-align: middle;\n",
       "    }\n",
       "\n",
       "    .dataframe tbody tr th {\n",
       "        vertical-align: top;\n",
       "    }\n",
       "\n",
       "    .dataframe thead th {\n",
       "        text-align: right;\n",
       "    }\n",
       "</style>\n",
       "<table border=\"1\" class=\"dataframe\">\n",
       "  <thead>\n",
       "    <tr style=\"text-align: right;\">\n",
       "      <th></th>\n",
       "      <th>Thres</th>\n",
       "      <th>no_obs</th>\n",
       "      <th>#bad</th>\n",
       "      <th>#good</th>\n",
       "      <th>good/bad</th>\n",
       "      <th>%bad</th>\n",
       "      <th>%good</th>\n",
       "      <th>woe</th>\n",
       "      <th>iv</th>\n",
       "      <th>column</th>\n",
       "    </tr>\n",
       "    <tr>\n",
       "      <th>bins</th>\n",
       "      <th></th>\n",
       "      <th></th>\n",
       "      <th></th>\n",
       "      <th></th>\n",
       "      <th></th>\n",
       "      <th></th>\n",
       "      <th></th>\n",
       "      <th></th>\n",
       "      <th></th>\n",
       "      <th></th>\n",
       "    </tr>\n",
       "  </thead>\n",
       "  <tbody>\n",
       "    <tr>\n",
       "      <th>(-999999999999999.0, 27.0]</th>\n",
       "      <td>2.700000e+01</td>\n",
       "      <td>46577</td>\n",
       "      <td>44157</td>\n",
       "      <td>2420</td>\n",
       "      <td>0.054804</td>\n",
       "      <td>0.201472</td>\n",
       "      <td>0.160169</td>\n",
       "      <td>-0.229418</td>\n",
       "      <td>0.009476</td>\n",
       "      <td>age</td>\n",
       "    </tr>\n",
       "    <tr>\n",
       "      <th>(27.0, 29.0]</th>\n",
       "      <td>2.900000e+01</td>\n",
       "      <td>26727</td>\n",
       "      <td>25231</td>\n",
       "      <td>1496</td>\n",
       "      <td>0.059292</td>\n",
       "      <td>0.115120</td>\n",
       "      <td>0.099014</td>\n",
       "      <td>-0.150712</td>\n",
       "      <td>0.002427</td>\n",
       "      <td>age</td>\n",
       "    </tr>\n",
       "    <tr>\n",
       "      <th>(29.0, 32.0]</th>\n",
       "      <td>3.200000e+01</td>\n",
       "      <td>40189</td>\n",
       "      <td>37849</td>\n",
       "      <td>2340</td>\n",
       "      <td>0.061825</td>\n",
       "      <td>0.172691</td>\n",
       "      <td>0.154875</td>\n",
       "      <td>-0.108887</td>\n",
       "      <td>0.001940</td>\n",
       "      <td>age</td>\n",
       "    </tr>\n",
       "    <tr>\n",
       "      <th>(32.0, 34.0]</th>\n",
       "      <td>3.400000e+01</td>\n",
       "      <td>23795</td>\n",
       "      <td>22305</td>\n",
       "      <td>1490</td>\n",
       "      <td>0.066801</td>\n",
       "      <td>0.101769</td>\n",
       "      <td>0.098617</td>\n",
       "      <td>-0.031469</td>\n",
       "      <td>0.000099</td>\n",
       "      <td>age</td>\n",
       "    </tr>\n",
       "    <tr>\n",
       "      <th>(34.0, 38.0]</th>\n",
       "      <td>3.800000e+01</td>\n",
       "      <td>34480</td>\n",
       "      <td>32182</td>\n",
       "      <td>2298</td>\n",
       "      <td>0.071406</td>\n",
       "      <td>0.146834</td>\n",
       "      <td>0.152095</td>\n",
       "      <td>0.035198</td>\n",
       "      <td>0.000185</td>\n",
       "      <td>age</td>\n",
       "    </tr>\n",
       "    <tr>\n",
       "      <th>(38.0, 43.0]</th>\n",
       "      <td>4.300000e+01</td>\n",
       "      <td>30134</td>\n",
       "      <td>27936</td>\n",
       "      <td>2198</td>\n",
       "      <td>0.078680</td>\n",
       "      <td>0.127462</td>\n",
       "      <td>0.145476</td>\n",
       "      <td>0.132198</td>\n",
       "      <td>0.002382</td>\n",
       "      <td>age</td>\n",
       "    </tr>\n",
       "    <tr>\n",
       "      <th>(43.0, 999999999999999.0]</th>\n",
       "      <td>1.000000e+15</td>\n",
       "      <td>32379</td>\n",
       "      <td>29512</td>\n",
       "      <td>2867</td>\n",
       "      <td>0.097147</td>\n",
       "      <td>0.134652</td>\n",
       "      <td>0.189754</td>\n",
       "      <td>0.343035</td>\n",
       "      <td>0.018902</td>\n",
       "      <td>age</td>\n",
       "    </tr>\n",
       "  </tbody>\n",
       "</table>\n",
       "</div>"
      ],
      "text/plain": [
       "                                   Thres  no_obs   #bad  #good  good/bad  \\\n",
       "bins                                                                       \n",
       "(-999999999999999.0, 27.0]  2.700000e+01   46577  44157   2420  0.054804   \n",
       "(27.0, 29.0]                2.900000e+01   26727  25231   1496  0.059292   \n",
       "(29.0, 32.0]                3.200000e+01   40189  37849   2340  0.061825   \n",
       "(32.0, 34.0]                3.400000e+01   23795  22305   1490  0.066801   \n",
       "(34.0, 38.0]                3.800000e+01   34480  32182   2298  0.071406   \n",
       "(38.0, 43.0]                4.300000e+01   30134  27936   2198  0.078680   \n",
       "(43.0, 999999999999999.0]   1.000000e+15   32379  29512   2867  0.097147   \n",
       "\n",
       "                                %bad     %good       woe        iv column  \n",
       "bins                                                                       \n",
       "(-999999999999999.0, 27.0]  0.201472  0.160169 -0.229418  0.009476    age  \n",
       "(27.0, 29.0]                0.115120  0.099014 -0.150712  0.002427    age  \n",
       "(29.0, 32.0]                0.172691  0.154875 -0.108887  0.001940    age  \n",
       "(32.0, 34.0]                0.101769  0.098617 -0.031469  0.000099    age  \n",
       "(34.0, 38.0]                0.146834  0.152095  0.035198  0.000185    age  \n",
       "(38.0, 43.0]                0.127462  0.145476  0.132198  0.002382    age  \n",
       "(43.0, 999999999999999.0]   0.134652  0.189754  0.343035  0.018902    age  "
      ]
     },
     "execution_count": 12,
     "metadata": {},
     "output_type": "execute_result"
    }
   ],
   "source": [
    "# nbins = {'contract_limit': 5, 'liab_limit': 5, 'cus_income': 4, 'age':7}\n",
    "\n",
    "df_summary, iv, thres = _woe(data, 'age', n_bins = 7, min_obs= 100)\n",
    "df_summary"
   ]
  },
  {
   "cell_type": "code",
   "execution_count": null,
   "metadata": {},
   "outputs": [
    {
     "data": {
      "image/png": "[encoded data removed]",
      "text/plain": [
       "<Figure size 432x288 with 1 Axes>"
      ]
     },
     "metadata": {
      "needs_background": "light"
     },
     "output_type": "display_data"
    }
   ],
   "source": [
    "\n",
    "\n",
    "_plot(df_summary)\n"
   ]
  },
  {
   "cell_type": "code",
   "execution_count": null,
   "metadata": {},
   "outputs": [
    {
     "ename": "NameError",
     "evalue": "name 'data_test' is not defined",
     "output_type": "error",
     "traceback": [
      "\u001b[1;31m---------------------------------------------------------------------------\u001b[0m",
      "\u001b[1;31mNameError\u001b[0m                                 Traceback (most recent call last)",
      "Input \u001b[1;32mIn [14]\u001b[0m, in \u001b[0;36m<cell line: 6>\u001b[1;34m()\u001b[0m\n\u001b[0;32m      4\u001b[0m X \u001b[38;5;241m=\u001b[39m data[input_columns]\n\u001b[0;32m      5\u001b[0m X_train \u001b[38;5;241m=\u001b[39m data_train[input_columns]\n\u001b[1;32m----> 6\u001b[0m X_test \u001b[38;5;241m=\u001b[39m \u001b[43mdata_test\u001b[49m[input_columns]\n\u001b[0;32m      7\u001b[0m y_train \u001b[38;5;241m=\u001b[39m data_train[\u001b[38;5;124m'\u001b[39m\u001b[38;5;124mbad_flag\u001b[39m\u001b[38;5;124m'\u001b[39m]\n\u001b[0;32m      8\u001b[0m y_test \u001b[38;5;241m=\u001b[39m data_test[\u001b[38;5;124m'\u001b[39m\u001b[38;5;124mbad_flag\u001b[39m\u001b[38;5;124m'\u001b[39m]\n",
      "\u001b[1;31mNameError\u001b[0m: name 'data_test' is not defined"
     ]
    }
   ],
   "source": [
    "\n",
    "excluded_columns = data_train.columns[13:]\n",
    "input_columns = [col for col in data_train.columns if col not in excluded_columns]\n",
    "input_columns.extend(['nhom_no_cic', 'bad_flag'])\n",
    "X = data[input_columns]\n",
    "X_train = data_train[input_columns]\n",
    "X_test = data_test[input_columns]\n",
    "y_train = data_train['bad_flag']\n",
    "y_test = data_test['bad_flag']"
   ]
  },
  {
   "cell_type": "code",
   "execution_count": null,
   "metadata": {},
   "outputs": [
    {
     "name": "stdout",
     "output_type": "stream",
     "text": [
      "information value of contract_limit column: 0.18668323055097963\n",
      "information value of liab_limit column: 0.1876267240364142\n",
      "information value of cus_income column: 0.0303427631608269\n",
      "information value of age column: 0.03503287284381351\n"
     ]
    }
   ],
   "source": [
    "# Đối với các biến numeric\n",
    "WOE_dict=dict()\n",
    "nbins = {'contract_limit': 5, 'liab_limit': 5, 'cus_income': 4, 'age':7}\n",
    "for (col, bins) in nbins.items():\n",
    "  df_summary, iv, thres = _woe(X, colname=col, n_bins=bins)\n",
    "  WOE_dict[col] = {'table':df_summary, 'iv':iv}"
   ]
  },
  {
   "cell_type": "code",
   "execution_count": null,
   "metadata": {},
   "outputs": [
    {
     "name": "stdout",
     "output_type": "stream",
     "text": [
      "information value of product_group column: 0.20379175617234252\n",
      "information value of bi_card_type column: 0.23018011637981406\n",
      "information value of campaign_group column: 0.5638637286299948\n",
      "information value of income_tier column: 0.11665093018032549\n",
      "information value of gender column: 0.12026986978652333\n",
      "information value of marital_status column: 0.017813546010527592\n",
      "information value of edu_level column: 0.008124879612424014\n",
      "information value of province_city column: 0.16190905989151244\n",
      "information value of cus_class column: 3.3901641591039704\n",
      "information value of nhom_no_cic column: 0.3043729987262875\n"
     ]
    }
   ],
   "source": [
    "object_columns = X_train.select_dtypes(include=['object']).columns.to_list()\n",
    "for col in object_columns:\n",
    "  df_summary, IV, thres = _woe(X, colname=col)\n",
    "  WOE_dict[col] = {'table':df_summary, 'iv':iv}"
   ]
  },
  {
   "cell_type": "code",
   "execution_count": null,
   "metadata": {},
   "outputs": [
    {
     "data": {
      "text/plain": [
       "[]"
      ]
     },
     "execution_count": 597,
     "metadata": {},
     "output_type": "execute_result"
    }
   ],
   "source": [
    "object_columns"
   ]
  },
  {
   "cell_type": "markdown",
   "metadata": {},
   "source": [
    "# <a id='toc3_'></a>[Xếp hạng các biến theo sức mạnh dự báo](#toc0_)"
   ]
  },
  {
   "cell_type": "code",
   "execution_count": null,
   "metadata": {},
   "outputs": [
    {
     "data": {
      "text/html": [
       "<div>\n",
       "<style scoped>\n",
       "    .dataframe tbody tr th:only-of-type {\n",
       "        vertical-align: middle;\n",
       "    }\n",
       "\n",
       "    .dataframe tbody tr th {\n",
       "        vertical-align: top;\n",
       "    }\n",
       "\n",
       "    .dataframe thead th {\n",
       "        text-align: right;\n",
       "    }\n",
       "</style>\n",
       "<table border=\"1\" class=\"dataframe\">\n",
       "  <thead>\n",
       "    <tr style=\"text-align: right;\">\n",
       "      <th></th>\n",
       "      <th>column</th>\n",
       "      <th>iv</th>\n",
       "      <th>rank</th>\n",
       "    </tr>\n",
       "  </thead>\n",
       "  <tbody>\n",
       "    <tr>\n",
       "      <th>3</th>\n",
       "      <td>liab_limit</td>\n",
       "      <td>0.187627</td>\n",
       "      <td>Medium</td>\n",
       "    </tr>\n",
       "    <tr>\n",
       "      <th>1</th>\n",
       "      <td>contract_limit</td>\n",
       "      <td>0.186683</td>\n",
       "      <td>Medium</td>\n",
       "    </tr>\n",
       "    <tr>\n",
       "      <th>0</th>\n",
       "      <td>product_group</td>\n",
       "      <td>0.035033</td>\n",
       "      <td>Weak</td>\n",
       "    </tr>\n",
       "    <tr>\n",
       "      <th>2</th>\n",
       "      <td>bi_card_type</td>\n",
       "      <td>0.035033</td>\n",
       "      <td>Weak</td>\n",
       "    </tr>\n",
       "    <tr>\n",
       "      <th>4</th>\n",
       "      <td>campaign_group</td>\n",
       "      <td>0.035033</td>\n",
       "      <td>Weak</td>\n",
       "    </tr>\n",
       "    <tr>\n",
       "      <th>6</th>\n",
       "      <td>income_tier</td>\n",
       "      <td>0.035033</td>\n",
       "      <td>Weak</td>\n",
       "    </tr>\n",
       "    <tr>\n",
       "      <th>7</th>\n",
       "      <td>gender</td>\n",
       "      <td>0.035033</td>\n",
       "      <td>Weak</td>\n",
       "    </tr>\n",
       "    <tr>\n",
       "      <th>8</th>\n",
       "      <td>marital_status</td>\n",
       "      <td>0.035033</td>\n",
       "      <td>Weak</td>\n",
       "    </tr>\n",
       "    <tr>\n",
       "      <th>9</th>\n",
       "      <td>edu_level</td>\n",
       "      <td>0.035033</td>\n",
       "      <td>Weak</td>\n",
       "    </tr>\n",
       "    <tr>\n",
       "      <th>10</th>\n",
       "      <td>province_city</td>\n",
       "      <td>0.035033</td>\n",
       "      <td>Weak</td>\n",
       "    </tr>\n",
       "    <tr>\n",
       "      <th>11</th>\n",
       "      <td>age</td>\n",
       "      <td>0.035033</td>\n",
       "      <td>Weak</td>\n",
       "    </tr>\n",
       "    <tr>\n",
       "      <th>12</th>\n",
       "      <td>cus_class</td>\n",
       "      <td>0.035033</td>\n",
       "      <td>Weak</td>\n",
       "    </tr>\n",
       "    <tr>\n",
       "      <th>13</th>\n",
       "      <td>nhom_no_cic</td>\n",
       "      <td>0.035033</td>\n",
       "      <td>Weak</td>\n",
       "    </tr>\n",
       "    <tr>\n",
       "      <th>5</th>\n",
       "      <td>cus_income</td>\n",
       "      <td>0.030343</td>\n",
       "      <td>Weak</td>\n",
       "    </tr>\n",
       "  </tbody>\n",
       "</table>\n",
       "</div>"
      ],
      "text/plain": [
       "            column        iv    rank\n",
       "3       liab_limit  0.187627  Medium\n",
       "1   contract_limit  0.186683  Medium\n",
       "0    product_group  0.035033    Weak\n",
       "2     bi_card_type  0.035033    Weak\n",
       "4   campaign_group  0.035033    Weak\n",
       "6      income_tier  0.035033    Weak\n",
       "7           gender  0.035033    Weak\n",
       "8   marital_status  0.035033    Weak\n",
       "9        edu_level  0.035033    Weak\n",
       "10   province_city  0.035033    Weak\n",
       "11             age  0.035033    Weak\n",
       "12       cus_class  0.035033    Weak\n",
       "13     nhom_no_cic  0.035033    Weak\n",
       "5       cus_income  0.030343    Weak"
      ]
     },
     "execution_count": 602,
     "metadata": {},
     "output_type": "execute_result"
    }
   ],
   "source": [
    "columns = []\n",
    "ivs = []\n",
    "\n",
    "\n",
    "for col in X_train.columns:\n",
    "  if col != 'bad_flag':\n",
    "    columns.append(col)\n",
    "    ivs.append(WOE_dict[col]['iv'])\n",
    "df_WOE = pd.DataFrame({'column': columns, 'iv': ivs})\n",
    "\n",
    "def _rank_iv(iv):\n",
    "  if iv <= 0.02:\n",
    "    return 'Useless'\n",
    "  elif iv <= 0.1:\n",
    "    return 'Weak'\n",
    "  elif iv <= 0.3:\n",
    "    return 'Medium'\n",
    "  elif iv <= 0.5:\n",
    "    return 'Strong'\n",
    "  else:\n",
    "    return 'suspicious'\n",
    "\n",
    "df_WOE['rank']=df_WOE['iv'].apply(lambda x: _rank_iv(x))\n",
    "df_WOE.sort_values('iv', ascending=False)"
   ]
  },
  {
   "cell_type": "markdown",
   "metadata": {},
   "source": [
    "# <a id='toc4_'></a>[Hồi quy logistic](#toc0_)"
   ]
  },
  {
   "cell_type": "code",
   "execution_count": null,
   "metadata": {},
   "outputs": [
    {
     "data": {
      "text/plain": [
       "dict_keys(['contract_limit', 'liab_limit', 'cus_income', 'age', 'product_group', 'bi_card_type', 'campaign_group', 'income_tier', 'gender', 'marital_status', 'edu_level', 'province_city', 'cus_class', 'nhom_no_cic'])"
      ]
     },
     "execution_count": 603,
     "metadata": {},
     "output_type": "execute_result"
    }
   ],
   "source": [
    "WOE_dict.keys()"
   ]
  },
  {
   "cell_type": "code",
   "execution_count": null,
   "metadata": {},
   "outputs": [],
   "source": [
    "for col in WOE_dict.keys():\n",
    "  try:\n",
    "    key = list(WOE_dict[col]['table']['woe'].index)\n",
    "    woe = list(WOE_dict[col]['table']['woe'])\n",
    "    d = dict(zip(key, woe))\n",
    "    col_woe = col+'_woe'\n",
    "    X_train[col_woe] = X_train[col].map(d)\n",
    "  except:\n",
    "    print(col)\n",
    "\n",
    "\n",
    "for col in WOE_dict.keys():\n",
    "  try:\n",
    "    key = list(WOE_dict[col]['table']['woe'].index)\n",
    "    woe = list(WOE_dict[col]['table']['woe'])\n",
    "    d = dict(zip(key, woe))\n",
    "    col_woe = col+'_woe'\n",
    "    X_test[col_woe] = X_test[col].map(d)\n",
    "  except:\n",
    "    print(col)    "
   ]
  },
  {
   "cell_type": "code",
   "execution_count": null,
   "metadata": {},
   "outputs": [],
   "source": [
    "X_train = X_train.dropna()\n",
    "X_train = X_train.filter(like='_woe', axis = 1)\n",
    "y_train = y_train.loc[X_train.index]\n",
    "\n",
    "X_test = X_test.dropna()\n",
    "X_test = X_test.filter(like='_woe', axis = 1)\n",
    "y_test = y_test.loc[X_test.index]\n"
   ]
  },
  {
   "cell_type": "code",
   "execution_count": null,
   "metadata": {},
   "outputs": [
    {
     "data": {
      "text/html": [
       "<div>\n",
       "<style scoped>\n",
       "    .dataframe tbody tr th:only-of-type {\n",
       "        vertical-align: middle;\n",
       "    }\n",
       "\n",
       "    .dataframe tbody tr th {\n",
       "        vertical-align: top;\n",
       "    }\n",
       "\n",
       "    .dataframe thead th {\n",
       "        text-align: right;\n",
       "    }\n",
       "</style>\n",
       "<table border=\"1\" class=\"dataframe\">\n",
       "  <thead>\n",
       "    <tr style=\"text-align: right;\">\n",
       "      <th></th>\n",
       "      <th>contract_limit_woe</th>\n",
       "      <th>liab_limit_woe</th>\n",
       "      <th>cus_income_woe</th>\n",
       "      <th>age_woe</th>\n",
       "      <th>product_group_woe</th>\n",
       "      <th>bi_card_type_woe</th>\n",
       "      <th>campaign_group_woe</th>\n",
       "      <th>income_tier_woe</th>\n",
       "      <th>gender_woe</th>\n",
       "      <th>marital_status_woe</th>\n",
       "      <th>edu_level_woe</th>\n",
       "      <th>province_city_woe</th>\n",
       "      <th>cus_class_woe</th>\n",
       "      <th>nhom_no_cic_woe</th>\n",
       "    </tr>\n",
       "  </thead>\n",
       "  <tbody>\n",
       "    <tr>\n",
       "      <th>0</th>\n",
       "      <td>0.283083</td>\n",
       "      <td>0.296682</td>\n",
       "      <td>0.084288</td>\n",
       "      <td>0.043959</td>\n",
       "      <td>-0.597917</td>\n",
       "      <td>0.253044</td>\n",
       "      <td>1.225164</td>\n",
       "      <td>0.174004</td>\n",
       "      <td>0.323024</td>\n",
       "      <td>0.065055</td>\n",
       "      <td>-0.676759</td>\n",
       "      <td>-0.200107</td>\n",
       "      <td>1.885972</td>\n",
       "      <td>-0.742001</td>\n",
       "    </tr>\n",
       "    <tr>\n",
       "      <th>1</th>\n",
       "      <td>-0.509231</td>\n",
       "      <td>-0.485759</td>\n",
       "      <td>0.070994</td>\n",
       "      <td>-0.058256</td>\n",
       "      <td>-0.597917</td>\n",
       "      <td>0.371757</td>\n",
       "      <td>-0.470288</td>\n",
       "      <td>0.174004</td>\n",
       "      <td>-0.375950</td>\n",
       "      <td>0.065055</td>\n",
       "      <td>-0.056125</td>\n",
       "      <td>-0.423439</td>\n",
       "      <td>-2.218558</td>\n",
       "      <td>-0.742001</td>\n",
       "    </tr>\n",
       "    <tr>\n",
       "      <th>2</th>\n",
       "      <td>0.550260</td>\n",
       "      <td>0.553149</td>\n",
       "      <td>0.137063</td>\n",
       "      <td>0.043959</td>\n",
       "      <td>0.511491</td>\n",
       "      <td>0.204006</td>\n",
       "      <td>0.208607</td>\n",
       "      <td>0.151619</td>\n",
       "      <td>0.323024</td>\n",
       "      <td>0.065055</td>\n",
       "      <td>0.050895</td>\n",
       "      <td>0.333722</td>\n",
       "      <td>-2.956331</td>\n",
       "      <td>0.288174</td>\n",
       "    </tr>\n",
       "    <tr>\n",
       "      <th>3</th>\n",
       "      <td>-0.182278</td>\n",
       "      <td>-0.199855</td>\n",
       "      <td>0.137063</td>\n",
       "      <td>-0.116107</td>\n",
       "      <td>-0.761609</td>\n",
       "      <td>0.253044</td>\n",
       "      <td>0.172477</td>\n",
       "      <td>-0.774099</td>\n",
       "      <td>-0.375950</td>\n",
       "      <td>-0.152629</td>\n",
       "      <td>-0.056125</td>\n",
       "      <td>0.050069</td>\n",
       "      <td>1.885972</td>\n",
       "      <td>-0.742001</td>\n",
       "    </tr>\n",
       "    <tr>\n",
       "      <th>4</th>\n",
       "      <td>0.283083</td>\n",
       "      <td>0.296682</td>\n",
       "      <td>0.137063</td>\n",
       "      <td>0.043959</td>\n",
       "      <td>-0.597917</td>\n",
       "      <td>-0.706327</td>\n",
       "      <td>-2.233337</td>\n",
       "      <td>0.151619</td>\n",
       "      <td>-0.375950</td>\n",
       "      <td>0.065055</td>\n",
       "      <td>-0.056125</td>\n",
       "      <td>-0.424227</td>\n",
       "      <td>1.885972</td>\n",
       "      <td>-0.742001</td>\n",
       "    </tr>\n",
       "    <tr>\n",
       "      <th>...</th>\n",
       "      <td>...</td>\n",
       "      <td>...</td>\n",
       "      <td>...</td>\n",
       "      <td>...</td>\n",
       "      <td>...</td>\n",
       "      <td>...</td>\n",
       "      <td>...</td>\n",
       "      <td>...</td>\n",
       "      <td>...</td>\n",
       "      <td>...</td>\n",
       "      <td>...</td>\n",
       "      <td>...</td>\n",
       "      <td>...</td>\n",
       "      <td>...</td>\n",
       "    </tr>\n",
       "    <tr>\n",
       "      <th>187420</th>\n",
       "      <td>0.283083</td>\n",
       "      <td>0.296682</td>\n",
       "      <td>-0.308699</td>\n",
       "      <td>-0.232013</td>\n",
       "      <td>0.057035</td>\n",
       "      <td>0.371757</td>\n",
       "      <td>-0.625953</td>\n",
       "      <td>-0.179015</td>\n",
       "      <td>-0.375950</td>\n",
       "      <td>-0.152629</td>\n",
       "      <td>0.148838</td>\n",
       "      <td>0.050069</td>\n",
       "      <td>-2.218558</td>\n",
       "      <td>0.288174</td>\n",
       "    </tr>\n",
       "    <tr>\n",
       "      <th>187421</th>\n",
       "      <td>0.283083</td>\n",
       "      <td>0.296682</td>\n",
       "      <td>-0.308699</td>\n",
       "      <td>-0.169849</td>\n",
       "      <td>0.511491</td>\n",
       "      <td>-0.706327</td>\n",
       "      <td>-0.730611</td>\n",
       "      <td>0.268341</td>\n",
       "      <td>-0.375950</td>\n",
       "      <td>0.065055</td>\n",
       "      <td>-0.676759</td>\n",
       "      <td>-0.002231</td>\n",
       "      <td>-2.218558</td>\n",
       "      <td>0.288174</td>\n",
       "    </tr>\n",
       "    <tr>\n",
       "      <th>187422</th>\n",
       "      <td>-0.533396</td>\n",
       "      <td>-0.541662</td>\n",
       "      <td>-0.308699</td>\n",
       "      <td>0.130136</td>\n",
       "      <td>-0.597917</td>\n",
       "      <td>-0.706327</td>\n",
       "      <td>-2.233337</td>\n",
       "      <td>-0.774099</td>\n",
       "      <td>-0.375950</td>\n",
       "      <td>0.065055</td>\n",
       "      <td>-0.297381</td>\n",
       "      <td>0.050069</td>\n",
       "      <td>-2.218558</td>\n",
       "      <td>0.288174</td>\n",
       "    </tr>\n",
       "    <tr>\n",
       "      <th>187423</th>\n",
       "      <td>0.283083</td>\n",
       "      <td>0.296682</td>\n",
       "      <td>0.070994</td>\n",
       "      <td>-0.232013</td>\n",
       "      <td>0.057035</td>\n",
       "      <td>-0.706327</td>\n",
       "      <td>0.219541</td>\n",
       "      <td>0.174004</td>\n",
       "      <td>-0.375950</td>\n",
       "      <td>-0.152629</td>\n",
       "      <td>0.050895</td>\n",
       "      <td>0.050069</td>\n",
       "      <td>-2.218558</td>\n",
       "      <td>-0.742001</td>\n",
       "    </tr>\n",
       "    <tr>\n",
       "      <th>187424</th>\n",
       "      <td>0.550260</td>\n",
       "      <td>0.553149</td>\n",
       "      <td>-0.308699</td>\n",
       "      <td>0.343489</td>\n",
       "      <td>0.511491</td>\n",
       "      <td>0.204006</td>\n",
       "      <td>1.225164</td>\n",
       "      <td>-0.179015</td>\n",
       "      <td>0.323024</td>\n",
       "      <td>0.065055</td>\n",
       "      <td>0.036216</td>\n",
       "      <td>0.050069</td>\n",
       "      <td>1.885972</td>\n",
       "      <td>0.288174</td>\n",
       "    </tr>\n",
       "  </tbody>\n",
       "</table>\n",
       "<p>187122 rows × 14 columns</p>\n",
       "</div>"
      ],
      "text/plain": [
       "        contract_limit_woe  liab_limit_woe  cus_income_woe   age_woe  \\\n",
       "0                 0.283083        0.296682        0.084288  0.043959   \n",
       "1                -0.509231       -0.485759        0.070994 -0.058256   \n",
       "2                 0.550260        0.553149        0.137063  0.043959   \n",
       "3                -0.182278       -0.199855        0.137063 -0.116107   \n",
       "4                 0.283083        0.296682        0.137063  0.043959   \n",
       "...                    ...             ...             ...       ...   \n",
       "187420            0.283083        0.296682       -0.308699 -0.232013   \n",
       "187421            0.283083        0.296682       -0.308699 -0.169849   \n",
       "187422           -0.533396       -0.541662       -0.308699  0.130136   \n",
       "187423            0.283083        0.296682        0.070994 -0.232013   \n",
       "187424            0.550260        0.553149       -0.308699  0.343489   \n",
       "\n",
       "        product_group_woe  bi_card_type_woe  campaign_group_woe  \\\n",
       "0               -0.597917          0.253044            1.225164   \n",
       "1               -0.597917          0.371757           -0.470288   \n",
       "2                0.511491          0.204006            0.208607   \n",
       "3               -0.761609          0.253044            0.172477   \n",
       "4               -0.597917         -0.706327           -2.233337   \n",
       "...                   ...               ...                 ...   \n",
       "187420           0.057035          0.371757           -0.625953   \n",
       "187421           0.511491         -0.706327           -0.730611   \n",
       "187422          -0.597917         -0.706327           -2.233337   \n",
       "187423           0.057035         -0.706327            0.219541   \n",
       "187424           0.511491          0.204006            1.225164   \n",
       "\n",
       "        income_tier_woe  gender_woe  marital_status_woe  edu_level_woe  \\\n",
       "0              0.174004    0.323024            0.065055      -0.676759   \n",
       "1              0.174004   -0.375950            0.065055      -0.056125   \n",
       "2              0.151619    0.323024            0.065055       0.050895   \n",
       "3             -0.774099   -0.375950           -0.152629      -0.056125   \n",
       "4              0.151619   -0.375950            0.065055      -0.056125   \n",
       "...                 ...         ...                 ...            ...   \n",
       "187420        -0.179015   -0.375950           -0.152629       0.148838   \n",
       "187421         0.268341   -0.375950            0.065055      -0.676759   \n",
       "187422        -0.774099   -0.375950            0.065055      -0.297381   \n",
       "187423         0.174004   -0.375950           -0.152629       0.050895   \n",
       "187424        -0.179015    0.323024            0.065055       0.036216   \n",
       "\n",
       "        province_city_woe  cus_class_woe  nhom_no_cic_woe  \n",
       "0               -0.200107       1.885972        -0.742001  \n",
       "1               -0.423439      -2.218558        -0.742001  \n",
       "2                0.333722      -2.956331         0.288174  \n",
       "3                0.050069       1.885972        -0.742001  \n",
       "4               -0.424227       1.885972        -0.742001  \n",
       "...                   ...            ...              ...  \n",
       "187420           0.050069      -2.218558         0.288174  \n",
       "187421          -0.002231      -2.218558         0.288174  \n",
       "187422           0.050069      -2.218558         0.288174  \n",
       "187423           0.050069      -2.218558        -0.742001  \n",
       "187424           0.050069       1.885972         0.288174  \n",
       "\n",
       "[187122 rows x 14 columns]"
      ]
     },
     "execution_count": 606,
     "metadata": {},
     "output_type": "execute_result"
    }
   ],
   "source": [
    "X_train"
   ]
  },
  {
   "cell_type": "code",
   "execution_count": null,
   "metadata": {},
   "outputs": [
    {
     "data": {
      "text/plain": [
       "LogisticRegression(C=1, max_iter=1000)"
      ]
     },
     "execution_count": 607,
     "metadata": {},
     "output_type": "execute_result"
    }
   ],
   "source": [
    "from sklearn.linear_model import LogisticRegression\n",
    "\n",
    "logit_model = LogisticRegression(solver = 'lbfgs', max_iter=1000, fit_intercept=True, tol=0.0001, C=1, penalty='l2')\n",
    "logit_model.fit(X_train, y_train)"
   ]
  },
  {
   "cell_type": "code",
   "execution_count": null,
   "metadata": {},
   "outputs": [
    {
     "name": "stdout",
     "output_type": "stream",
     "text": [
      "accuracy on train:  0.9388847917401482\n",
      "accuracy on test:  0.9381919213507159\n"
     ]
    }
   ],
   "source": [
    "from sklearn.metrics import accuracy_score\n",
    "\n",
    "y_pred_train = logit_model.predict(X_train)\n",
    "acc_train = accuracy_score(y_pred_train, y_train)\n",
    "y_pred_test = logit_model.predict(X_test)\n",
    "acc_test = accuracy_score(y_pred_test, y_test)\n",
    "\n",
    "print('accuracy on train: ', acc_train)\n",
    "print('accuracy on test: ', acc_test)"
   ]
  },
  {
   "cell_type": "markdown",
   "metadata": {},
   "source": [
    "# <a id='toc5_'></a>[Trả ra prob of risk cho data](#toc0_)"
   ]
  },
  {
   "cell_type": "code",
   "execution_count": null,
   "metadata": {},
   "outputs": [
    {
     "data": {
      "image/png": "[encoded data removed]",
      "text/plain": [
       "<Figure size 720x576 with 1 Axes>"
      ]
     },
     "metadata": {
      "needs_background": "light"
     },
     "output_type": "display_data"
    }
   ],
   "source": [
    "from sklearn.metrics import roc_curve, auc\n",
    "\n",
    "y_pred_prob_test = logit_model.predict_proba(X_test)[:, 1]\n",
    "fpr, tpr, thres = roc_curve(y_test, y_pred_prob_test)\n",
    "roc_auc = auc(fpr, tpr)\n",
    "\n",
    "def _plot_roc_curve(fpr, tpr, thres, auc):\n",
    "    plt.figure(figsize = (10, 8))\n",
    "    plt.plot(fpr, tpr, 'b-', color='darkorange', lw=2, linestyle='--', label='ROC curve (area = %0.2f)'%auc)\n",
    "    plt.plot([0, 1], [0, 1], '--')\n",
    "    plt.axis([0, 1, 0, 1])\n",
    "    plt.xlabel('False Positive Rate')\n",
    "    plt.ylabel('True Positive Rate')\n",
    "    plt.legend(loc='lower right')\n",
    "    plt.title('ROC Curve')\n",
    "\n",
    "_plot_roc_curve(fpr, tpr, thres, roc_auc)"
   ]
  },
  {
   "cell_type": "markdown",
   "metadata": {},
   "source": [
    "## <a id='toc5_1_'></a>[Lưu model logistic](#toc0_)"
   ]
  },
  {
   "cell_type": "code",
   "execution_count": null,
   "metadata": {},
   "outputs": [
    {
     "data": {
      "text/plain": [
       "['d:\\\\ngamt2\\\\3. Training\\\\Py\\\\hien-main\\\\04. model\\\\logistic_risk_prob.pkl']"
      ]
     },
     "execution_count": 610,
     "metadata": {},
     "output_type": "execute_result"
    }
   ],
   "source": [
    "import joblib\n",
    "out_put_link = wd + '\\\\04. model\\\\logistic_risk_prob.pkl'\n",
    "# Lưu trữ mô hình bằng joblib\n",
    "joblib.dump(logit_model, out_put_link)"
   ]
  },
  {
   "cell_type": "code",
   "execution_count": null,
   "metadata": {},
   "outputs": [],
   "source": [
    "y_pred = logit_model.predict_proba(X_test)[:, 1]\n",
    "data_test.loc[X_test.index, 'prob_of_risk_event'] = y_pred"
   ]
  },
  {
   "cell_type": "code",
   "execution_count": null,
   "metadata": {},
   "outputs": [],
   "source": [
    "data_output_risk = data_test.dropna()"
   ]
  },
  {
   "cell_type": "code",
   "execution_count": null,
   "metadata": {},
   "outputs": [],
   "source": [
    "out_put_link = wd + '\\\\01. data\\\\output\\\\out_put_risk_logistic.csv' \n",
    "data_output_risk.to_csv(out_put_link, index=False)"
   ]
  },
  {
   "cell_type": "markdown",
   "metadata": {},
   "source": [
    "# <a id='toc6_'></a>[Tính điểm score cho mỗi feature](#toc0_)"
   ]
  },
  {
   "cell_type": "code",
   "execution_count": null,
   "metadata": {},
   "outputs": [
    {
     "data": {
      "text/plain": [
       "42.2677896003704"
      ]
     },
     "execution_count": 614,
     "metadata": {},
     "output_type": "execute_result"
    }
   ],
   "source": [
    "import numpy as np\n",
    "\n",
    "def _CreditScore(beta, alpha, woe, n = 12, odds = 1/4, pdo = -50, thres_score = 600):\n",
    "  factor = pdo/np.log(2)\n",
    "  offset = thres_score - factor*np.log(odds)\n",
    "  score = (beta*woe+alpha/n)*factor+offset/n\n",
    "  return score\n",
    "\n",
    "_CreditScore(beta = 0.5, alpha = -1, woe = 0.15, n = 12)"
   ]
  },
  {
   "cell_type": "code",
   "execution_count": null,
   "metadata": {},
   "outputs": [
    {
     "data": {
      "text/plain": [
       "{'contract_limit_woe': 0.7048746340680658,\n",
       " 'liab_limit_woe': -0.6442256101583405,\n",
       " 'cus_income_woe': 0.6661108303885332,\n",
       " 'age_woe': -0.18378701059516978,\n",
       " 'product_group_woe': 0.18213386239119075,\n",
       " 'bi_card_type_woe': -0.5303087140414209,\n",
       " 'campaign_group_woe': 0.4365797861774336,\n",
       " 'income_tier_woe': 0.6974551227773177,\n",
       " 'gender_woe': 0.6930481646540595,\n",
       " 'marital_status_woe': 0.35667815238966594,\n",
       " 'edu_level_woe': 0.18759026920526597,\n",
       " 'province_city_woe': 0.4259036362216751,\n",
       " 'cus_class_woe': 0.9787315385910779,\n",
       " 'nhom_no_cic_woe': 0.920485657501988}"
      ]
     },
     "execution_count": 615,
     "metadata": {},
     "output_type": "execute_result"
    }
   ],
   "source": [
    "betas_dict = dict(zip(list(X_train.columns), logit_model.coef_[0]))\n",
    "alpha = logit_model.intercept_[0]\n",
    "betas_dict"
   ]
  },
  {
   "cell_type": "code",
   "execution_count": null,
   "metadata": {},
   "outputs": [
    {
     "data": {
      "text/html": [
       "<div>\n",
       "<style scoped>\n",
       "    .dataframe tbody tr th:only-of-type {\n",
       "        vertical-align: middle;\n",
       "    }\n",
       "\n",
       "    .dataframe tbody tr th {\n",
       "        vertical-align: top;\n",
       "    }\n",
       "\n",
       "    .dataframe thead th {\n",
       "        text-align: right;\n",
       "    }\n",
       "</style>\n",
       "<table border=\"1\" class=\"dataframe\">\n",
       "  <thead>\n",
       "    <tr style=\"text-align: right;\">\n",
       "      <th></th>\n",
       "      <th>Columns</th>\n",
       "      <th>Features</th>\n",
       "      <th>WOE</th>\n",
       "      <th>Betas</th>\n",
       "      <th>Scores</th>\n",
       "    </tr>\n",
       "  </thead>\n",
       "  <tbody>\n",
       "    <tr>\n",
       "      <th>0</th>\n",
       "      <td>product_group</td>\n",
       "      <td>1. MC2</td>\n",
       "      <td>0.511491</td>\n",
       "      <td>0.182134</td>\n",
       "      <td>51.108412</td>\n",
       "    </tr>\n",
       "    <tr>\n",
       "      <th>1</th>\n",
       "      <td>product_group</td>\n",
       "      <td>2. Titanium</td>\n",
       "      <td>-0.597917</td>\n",
       "      <td>0.182134</td>\n",
       "      <td>65.684012</td>\n",
       "    </tr>\n",
       "    <tr>\n",
       "      <th>2</th>\n",
       "      <td>product_group</td>\n",
       "      <td>3. Platinum</td>\n",
       "      <td>0.057035</td>\n",
       "      <td>0.182134</td>\n",
       "      <td>57.079136</td>\n",
       "    </tr>\n",
       "    <tr>\n",
       "      <th>3</th>\n",
       "      <td>product_group</td>\n",
       "      <td>4. World</td>\n",
       "      <td>-0.761609</td>\n",
       "      <td>0.182134</td>\n",
       "      <td>67.834631</td>\n",
       "    </tr>\n",
       "    <tr>\n",
       "      <th>4</th>\n",
       "      <td>product_group</td>\n",
       "      <td>5. Visa Platinum</td>\n",
       "      <td>-0.199469</td>\n",
       "      <td>0.182134</td>\n",
       "      <td>60.449130</td>\n",
       "    </tr>\n",
       "    <tr>\n",
       "      <th>...</th>\n",
       "      <td>...</td>\n",
       "      <td>...</td>\n",
       "      <td>...</td>\n",
       "      <td>...</td>\n",
       "      <td>...</td>\n",
       "    </tr>\n",
       "    <tr>\n",
       "      <th>231</th>\n",
       "      <td>nhom_no_cic</td>\n",
       "      <td>1</td>\n",
       "      <td>0.288174</td>\n",
       "      <td>0.920486</td>\n",
       "      <td>38.693980</td>\n",
       "    </tr>\n",
       "    <tr>\n",
       "      <th>232</th>\n",
       "      <td>nhom_no_cic</td>\n",
       "      <td>2</td>\n",
       "      <td>2.232458</td>\n",
       "      <td>0.920486</td>\n",
       "      <td>-90.404502</td>\n",
       "    </tr>\n",
       "    <tr>\n",
       "      <th>233</th>\n",
       "      <td>nhom_no_cic</td>\n",
       "      <td>3</td>\n",
       "      <td>2.480410</td>\n",
       "      <td>0.920486</td>\n",
       "      <td>-106.868300</td>\n",
       "    </tr>\n",
       "    <tr>\n",
       "      <th>234</th>\n",
       "      <td>nhom_no_cic</td>\n",
       "      <td>4</td>\n",
       "      <td>2.438177</td>\n",
       "      <td>0.920486</td>\n",
       "      <td>-104.064087</td>\n",
       "    </tr>\n",
       "    <tr>\n",
       "      <th>235</th>\n",
       "      <td>nhom_no_cic</td>\n",
       "      <td>5</td>\n",
       "      <td>1.575954</td>\n",
       "      <td>0.920486</td>\n",
       "      <td>-46.813304</td>\n",
       "    </tr>\n",
       "  </tbody>\n",
       "</table>\n",
       "<p>236 rows × 5 columns</p>\n",
       "</div>"
      ],
      "text/plain": [
       "           Columns          Features       WOE     Betas      Scores\n",
       "0    product_group            1. MC2  0.511491  0.182134   51.108412\n",
       "1    product_group       2. Titanium -0.597917  0.182134   65.684012\n",
       "2    product_group       3. Platinum  0.057035  0.182134   57.079136\n",
       "3    product_group          4. World -0.761609  0.182134   67.834631\n",
       "4    product_group  5. Visa Platinum -0.199469  0.182134   60.449130\n",
       "..             ...               ...       ...       ...         ...\n",
       "231    nhom_no_cic                 1  0.288174  0.920486   38.693980\n",
       "232    nhom_no_cic                 2  2.232458  0.920486  -90.404502\n",
       "233    nhom_no_cic                 3  2.480410  0.920486 -106.868300\n",
       "234    nhom_no_cic                 4  2.438177  0.920486 -104.064087\n",
       "235    nhom_no_cic                 5  1.575954  0.920486  -46.813304\n",
       "\n",
       "[236 rows x 5 columns]"
      ]
     },
     "execution_count": 616,
     "metadata": {},
     "output_type": "execute_result"
    }
   ],
   "source": [
    "cols = []\n",
    "features = []\n",
    "woes = []\n",
    "betas = []\n",
    "scores = []\n",
    "\n",
    "for col in columns:\n",
    "  for feature, woe in WOE_dict[col]['table']['woe'].to_frame().iterrows():\n",
    "      cols.append(col)\n",
    "      # Add feature\n",
    "      feature = str(feature)\n",
    "      features.append(feature)    \n",
    "      # Add woe\n",
    "      woe = woe.values[0]\n",
    "      woes.append(woe)\n",
    "      # Add beta\n",
    "      col_woe = col+'_woe'\n",
    "      beta = betas_dict[col_woe]\n",
    "      betas.append(beta)\n",
    "      # Add score\n",
    "      score = _CreditScore(beta = beta, alpha = alpha, woe = woe, n = 12)\n",
    "      scores.append(score)\n",
    "\n",
    "df_WOE = pd.DataFrame({'Columns': cols, 'Features': features, 'WOE': woes, 'Betas':betas, 'Scores':scores})\n",
    "df_WOE"
   ]
  },
  {
   "cell_type": "code",
   "execution_count": null,
   "metadata": {},
   "outputs": [],
   "source": [
    "def _search_score(obs, col):\n",
    "  feature = [str(inter) for inter in list(WOE_dict[col]['table'].index) if obs[col].values[0] in inter][0]\n",
    "  score = df_WOE[(df_WOE['Columns'] == col) & (df_WOE['Features'] == feature)]['Scores'].values[0]\n",
    "  return score"
   ]
  },
  {
   "cell_type": "code",
   "execution_count": null,
   "metadata": {},
   "outputs": [
    {
     "data": {
      "text/html": [
       "<div>\n",
       "<style scoped>\n",
       "    .dataframe tbody tr th:only-of-type {\n",
       "        vertical-align: middle;\n",
       "    }\n",
       "\n",
       "    .dataframe tbody tr th {\n",
       "        vertical-align: top;\n",
       "    }\n",
       "\n",
       "    .dataframe thead th {\n",
       "        text-align: right;\n",
       "    }\n",
       "</style>\n",
       "<table border=\"1\" class=\"dataframe\">\n",
       "  <thead>\n",
       "    <tr style=\"text-align: right;\">\n",
       "      <th></th>\n",
       "      <th>product_group</th>\n",
       "      <th>contract_limit</th>\n",
       "      <th>bi_card_type</th>\n",
       "      <th>liab_limit</th>\n",
       "      <th>campaign_group</th>\n",
       "      <th>cus_income</th>\n",
       "      <th>income_tier</th>\n",
       "      <th>gender</th>\n",
       "      <th>marital_status</th>\n",
       "      <th>edu_level</th>\n",
       "      <th>province_city</th>\n",
       "      <th>age</th>\n",
       "      <th>cus_class</th>\n",
       "      <th>nhom_no_cic</th>\n",
       "    </tr>\n",
       "  </thead>\n",
       "  <tbody>\n",
       "    <tr>\n",
       "      <th>146091</th>\n",
       "      <td>4. World</td>\n",
       "      <td>-75000000.0</td>\n",
       "      <td>ONLINE CARD</td>\n",
       "      <td>-75000000.0</td>\n",
       "      <td>CASA</td>\n",
       "      <td>30000000.0</td>\n",
       "      <td>4.15M-40M</td>\n",
       "      <td>FEMALE</td>\n",
       "      <td>Married</td>\n",
       "      <td>Junior college</td>\n",
       "      <td>Ha Noi</td>\n",
       "      <td>37</td>\n",
       "      <td>PRIORITY</td>\n",
       "      <td>1</td>\n",
       "    </tr>\n",
       "  </tbody>\n",
       "</table>\n",
       "</div>"
      ],
      "text/plain": [
       "       product_group  contract_limit bi_card_type  liab_limit campaign_group  \\\n",
       "146091      4. World     -75000000.0  ONLINE CARD -75000000.0           CASA   \n",
       "\n",
       "        cus_income income_tier  gender marital_status       edu_level  \\\n",
       "146091  30000000.0   4.15M-40M  FEMALE        Married  Junior college   \n",
       "\n",
       "       province_city  age cus_class nhom_no_cic  \n",
       "146091        Ha Noi   37  PRIORITY           1  "
      ]
     },
     "execution_count": 618,
     "metadata": {},
     "output_type": "execute_result"
    }
   ],
   "source": [
    "test_obs = data_test[columns].iloc[0:1, :]\n",
    "test_obs"
   ]
  },
  {
   "cell_type": "code",
   "execution_count": null,
   "metadata": {},
   "outputs": [
    {
     "data": {
      "text/plain": [
       "({'product_group': 67.83463060804755,\n",
       "  'contract_limit': 84.94947613164425,\n",
       "  'bi_card_type': 30.808847070086983,\n",
       "  'liab_limit': 32.65686367743359,\n",
       "  'campaign_group': 80.83728704641604,\n",
       "  'cus_income': 53.77847480071861,\n",
       "  'income_tier': 49.0741773447656,\n",
       "  'gender': 76.62329188163822,\n",
       "  'marital_status': 56.15467072860694,\n",
       "  'edu_level': 57.13976425805823,\n",
       "  'province_city': 70.83754886243796,\n",
       "  'age': 58.4112484879586,\n",
       "  'cus_class': 266.5470691003928,\n",
       "  'nhom_no_cic': 38.69398017352127},\n",
       " 1024.3473301717268)"
      ]
     },
     "execution_count": 619,
     "metadata": {},
     "output_type": "execute_result"
    }
   ],
   "source": [
    "scores = dict()\n",
    "\n",
    "\n",
    "for col in columns:\n",
    "    scores[col] = _search_score(test_obs, col)\n",
    "total_score = sum(scores.values())\n",
    "\n",
    "scores, total_score"
   ]
  },
  {
   "cell_type": "code",
   "execution_count": null,
   "metadata": {},
   "outputs": [],
   "source": [
    "def _total_score(obs, columns = columns):\n",
    "  scores = dict()\n",
    "  for col in columns:\n",
    "    scores[col] = _search_score(obs, col)\n",
    "  total_score = sum(scores.values())\n",
    "  return scores, total_score\n",
    "\n",
    "scores, total_score = _total_score(test_obs)\n",
    "# print('score for each fields: \\n', scores)\n",
    "# print('final total score: ', total_score)\n"
   ]
  },
  {
   "cell_type": "code",
   "execution_count": null,
   "metadata": {},
   "outputs": [],
   "source": [
    "\n",
    "total_scores = []\n",
    "\n",
    "\n",
    "for i in np.arange(data_output_risk[columns].shape[0]):\n",
    "  obs = data_output_risk[columns].iloc[i:(i+1), :]\n",
    "  _, score = _total_score(obs)\n",
    "  total_scores.append(score)\n",
    "data_output_risk['Score'] = total_scores"
   ]
  },
  {
   "cell_type": "code",
   "execution_count": null,
   "metadata": {},
   "outputs": [],
   "source": [
    "out_put_link = wd + '\\\\01. data\\\\output\\\\out_put_scorecard.csv' \n",
    "data_output_risk.to_csv(out_put_link, index=False)"
   ]
  },
  {
   "cell_type": "markdown",
   "metadata": {},
   "source": [
    "### Prob Risk Predicted Plot"
   ]
  },
  {
   "cell_type": "code",
   "execution_count": null,
   "metadata": {},
   "outputs": [],
   "source": [
    "out_put_link = wd + '\\\\01. data\\\\output\\\\out_put_scorecard.csv' \n",
    "data_test = pd.read_csv(out_put_link)"
   ]
  },
  {
   "cell_type": "code",
   "execution_count": null,
   "metadata": {},
   "outputs": [
    {
     "data": {
      "text/plain": [
       "Index(['product_group', 'contract_limit', 'bi_card_type', 'liab_limit',\n",
       "       'campaign_group', 'cus_income', 'income_tier', 'gender',\n",
       "       'marital_status', 'edu_level', 'province_city', 'age', 'cus_class',\n",
       "       'ovd_days', 'ovd_days_6m', 'ovd_days_12m', 'ovd_days_24m',\n",
       "       'ovd_days_36m', 'nhom_no_cic', 'revolver_group', 'nii_24m', 'nfi_24m',\n",
       "       'toi_24m', 'provision_24m', 'bad_flag'],\n",
       "      dtype='object')"
      ]
     },
     "execution_count": 631,
     "metadata": {},
     "output_type": "execute_result"
    }
   ],
   "source": [
    "data_test.columns"
   ]
  },
  {
   "cell_type": "code",
   "execution_count": null,
   "metadata": {},
   "outputs": [
    {
     "data": {
      "text/plain": [
       "Text(0.5, 1.0, 'Distribution Score in Default vs Non-Default')"
      ]
     },
     "execution_count": 635,
     "metadata": {},
     "output_type": "execute_result"
    },
    {
     "data": {
      "image/png": "[encoded data removed]",
      "text/plain": [
       "<Figure size 1152x288 with 1 Axes>"
      ]
     },
     "metadata": {
      "needs_background": "light"
     },
     "output_type": "display_data"
    }
   ],
   "source": [
    "plt.figure(figsize=(16, 4))\n",
    "# plt.subplot(121)\n",
    "# sns.distplot(data['Score'])\n",
    "# plt.title('Distribution Score of Total data')\n",
    "plt.subplot(122)\n",
    "sns.distplot(data_test[data_test['bad_flag']==1]['prob_of_risk_event'], label='Default')\n",
    "sns.distplot(data_test[data_test['bad_flag']==0]['prob_of_risk_event'], label='Non-Default', \n",
    "             kde_kws={\"color\": \"r\"}, \n",
    "             hist_kws={\"color\": \"g\", \"alpha\":0.5})\n",
    "plt.legend(loc = 'lower right')\n",
    "plt.title('Distribution Score in Default vs Non-Default')"
   ]
  },
  {
   "cell_type": "code",
   "execution_count": null,
   "metadata": {},
   "outputs": [
    {
     "data": {
      "text/plain": [
       "Text(0.5, 1.0, 'Distribution Score in Default vs Non-Default')"
      ]
     },
     "execution_count": 636,
     "metadata": {},
     "output_type": "execute_result"
    },
    {
     "data": {
      "image/png": "[encoded data removed]",
      "text/plain": [
       "<Figure size 1152x288 with 1 Axes>"
      ]
     },
     "metadata": {
      "needs_background": "light"
     },
     "output_type": "display_data"
    }
   ],
   "source": [
    "plt.figure(figsize=(16, 4))\n",
    "# plt.subplot(121)\n",
    "# sns.distplot(data['Score'])\n",
    "# plt.title('Distribution Score of Total data')\n",
    "plt.subplot(122)\n",
    "sns.distplot(data_test[data_test['bad_flag']==1]['Score'], label='Default')\n",
    "sns.distplot(data_test[data_test['bad_flag']==0]['Score'], label='Non-Default', \n",
    "             kde_kws={\"color\": \"r\"}, \n",
    "             hist_kws={\"color\": \"g\", \"alpha\":0.5})\n",
    "plt.legend(loc = 'lower right')\n",
    "plt.title('Distribution Score in Default vs Non-Default')"
   ]
  }
 ],
 "metadata": {
  "kernelspec": {
   "display_name": "base",
   "language": "python",
   "name": "python3"
  },
  "language_info": {
   "codemirror_mode": {
    "name": "ipython",
    "version": 3
   },
   "file_extension": ".py",
   "mimetype": "text/x-python",
   "name": "python",
   "nbconvert_exporter": "python",
   "pygments_lexer": "ipython3",
   "version": "3.9.12"
  }
 },
 "nbformat": 4,
 "nbformat_minor": 2
}
